{
 "cells": [
  {
   "cell_type": "code",
   "execution_count": 1,
   "id": "1d14eb29-8ddc-47be-a6b3-2d06f1ac0972",
   "metadata": {},
   "outputs": [],
   "source": [
    "import numpy as np \n",
    "import pandas as pd \n",
    "import matplotlib.pyplot as plt\n",
    "import seaborn as sns\n",
    "from PIL import Image"
   ]
  },
  {
   "cell_type": "code",
   "execution_count": 2,
   "id": "53d454ac-e609-42e7-978d-55ecd29ae111",
   "metadata": {},
   "outputs": [
    {
     "data": {
      "text/html": [
       "<div>\n",
       "<style scoped>\n",
       "    .dataframe tbody tr th:only-of-type {\n",
       "        vertical-align: middle;\n",
       "    }\n",
       "\n",
       "    .dataframe tbody tr th {\n",
       "        vertical-align: top;\n",
       "    }\n",
       "\n",
       "    .dataframe thead th {\n",
       "        text-align: right;\n",
       "    }\n",
       "</style>\n",
       "<table border=\"1\" class=\"dataframe\">\n",
       "  <thead>\n",
       "    <tr style=\"text-align: right;\">\n",
       "      <th></th>\n",
       "      <th>pixel0000</th>\n",
       "      <th>pixel0001</th>\n",
       "      <th>pixel0002</th>\n",
       "      <th>pixel0003</th>\n",
       "      <th>pixel0004</th>\n",
       "      <th>pixel0005</th>\n",
       "      <th>pixel0006</th>\n",
       "      <th>pixel0007</th>\n",
       "      <th>pixel0008</th>\n",
       "      <th>pixel0009</th>\n",
       "      <th>...</th>\n",
       "      <th>pixel2343</th>\n",
       "      <th>pixel2344</th>\n",
       "      <th>pixel2345</th>\n",
       "      <th>pixel2346</th>\n",
       "      <th>pixel2347</th>\n",
       "      <th>pixel2348</th>\n",
       "      <th>pixel2349</th>\n",
       "      <th>pixel2350</th>\n",
       "      <th>pixel2351</th>\n",
       "      <th>label</th>\n",
       "    </tr>\n",
       "  </thead>\n",
       "  <tbody>\n",
       "    <tr>\n",
       "      <th>0</th>\n",
       "      <td>192</td>\n",
       "      <td>153</td>\n",
       "      <td>193</td>\n",
       "      <td>195</td>\n",
       "      <td>155</td>\n",
       "      <td>192</td>\n",
       "      <td>197</td>\n",
       "      <td>154</td>\n",
       "      <td>185</td>\n",
       "      <td>202</td>\n",
       "      <td>...</td>\n",
       "      <td>173</td>\n",
       "      <td>124</td>\n",
       "      <td>138</td>\n",
       "      <td>183</td>\n",
       "      <td>147</td>\n",
       "      <td>166</td>\n",
       "      <td>185</td>\n",
       "      <td>154</td>\n",
       "      <td>177</td>\n",
       "      <td>2</td>\n",
       "    </tr>\n",
       "    <tr>\n",
       "      <th>1</th>\n",
       "      <td>25</td>\n",
       "      <td>14</td>\n",
       "      <td>30</td>\n",
       "      <td>68</td>\n",
       "      <td>48</td>\n",
       "      <td>75</td>\n",
       "      <td>123</td>\n",
       "      <td>93</td>\n",
       "      <td>126</td>\n",
       "      <td>158</td>\n",
       "      <td>...</td>\n",
       "      <td>60</td>\n",
       "      <td>39</td>\n",
       "      <td>55</td>\n",
       "      <td>25</td>\n",
       "      <td>14</td>\n",
       "      <td>28</td>\n",
       "      <td>25</td>\n",
       "      <td>14</td>\n",
       "      <td>27</td>\n",
       "      <td>2</td>\n",
       "    </tr>\n",
       "    <tr>\n",
       "      <th>2</th>\n",
       "      <td>192</td>\n",
       "      <td>138</td>\n",
       "      <td>153</td>\n",
       "      <td>200</td>\n",
       "      <td>145</td>\n",
       "      <td>163</td>\n",
       "      <td>201</td>\n",
       "      <td>142</td>\n",
       "      <td>160</td>\n",
       "      <td>206</td>\n",
       "      <td>...</td>\n",
       "      <td>167</td>\n",
       "      <td>129</td>\n",
       "      <td>143</td>\n",
       "      <td>159</td>\n",
       "      <td>124</td>\n",
       "      <td>142</td>\n",
       "      <td>136</td>\n",
       "      <td>104</td>\n",
       "      <td>117</td>\n",
       "      <td>2</td>\n",
       "    </tr>\n",
       "    <tr>\n",
       "      <th>3</th>\n",
       "      <td>38</td>\n",
       "      <td>19</td>\n",
       "      <td>30</td>\n",
       "      <td>95</td>\n",
       "      <td>59</td>\n",
       "      <td>72</td>\n",
       "      <td>143</td>\n",
       "      <td>103</td>\n",
       "      <td>119</td>\n",
       "      <td>171</td>\n",
       "      <td>...</td>\n",
       "      <td>44</td>\n",
       "      <td>26</td>\n",
       "      <td>36</td>\n",
       "      <td>25</td>\n",
       "      <td>12</td>\n",
       "      <td>17</td>\n",
       "      <td>25</td>\n",
       "      <td>12</td>\n",
       "      <td>15</td>\n",
       "      <td>2</td>\n",
       "    </tr>\n",
       "    <tr>\n",
       "      <th>4</th>\n",
       "      <td>158</td>\n",
       "      <td>113</td>\n",
       "      <td>139</td>\n",
       "      <td>194</td>\n",
       "      <td>144</td>\n",
       "      <td>174</td>\n",
       "      <td>215</td>\n",
       "      <td>162</td>\n",
       "      <td>191</td>\n",
       "      <td>225</td>\n",
       "      <td>...</td>\n",
       "      <td>209</td>\n",
       "      <td>166</td>\n",
       "      <td>185</td>\n",
       "      <td>172</td>\n",
       "      <td>135</td>\n",
       "      <td>149</td>\n",
       "      <td>109</td>\n",
       "      <td>78</td>\n",
       "      <td>92</td>\n",
       "      <td>2</td>\n",
       "    </tr>\n",
       "  </tbody>\n",
       "</table>\n",
       "<p>5 rows × 2353 columns</p>\n",
       "</div>"
      ],
      "text/plain": [
       "   pixel0000  pixel0001  pixel0002  pixel0003  pixel0004  pixel0005  \\\n",
       "0        192        153        193        195        155        192   \n",
       "1         25         14         30         68         48         75   \n",
       "2        192        138        153        200        145        163   \n",
       "3         38         19         30         95         59         72   \n",
       "4        158        113        139        194        144        174   \n",
       "\n",
       "   pixel0006  pixel0007  pixel0008  pixel0009  ...  pixel2343  pixel2344  \\\n",
       "0        197        154        185        202  ...        173        124   \n",
       "1        123         93        126        158  ...         60         39   \n",
       "2        201        142        160        206  ...        167        129   \n",
       "3        143        103        119        171  ...         44         26   \n",
       "4        215        162        191        225  ...        209        166   \n",
       "\n",
       "   pixel2345  pixel2346  pixel2347  pixel2348  pixel2349  pixel2350  \\\n",
       "0        138        183        147        166        185        154   \n",
       "1         55         25         14         28         25         14   \n",
       "2        143        159        124        142        136        104   \n",
       "3         36         25         12         17         25         12   \n",
       "4        185        172        135        149        109         78   \n",
       "\n",
       "   pixel2351  label  \n",
       "0        177      2  \n",
       "1         27      2  \n",
       "2        117      2  \n",
       "3         15      2  \n",
       "4         92      2  \n",
       "\n",
       "[5 rows x 2353 columns]"
      ]
     },
     "execution_count": 2,
     "metadata": {},
     "output_type": "execute_result"
    }
   ],
   "source": [
    "data = pd.read_csv(r'C:\\Users\\MDP\\Documents\\Proje_B\\Inputs\\hmnist_28_28_RGB.csv')\n",
    "data.head()"
   ]
  },
  {
   "cell_type": "code",
   "execution_count": 3,
   "id": "63f9e730-759c-4610-97fb-0a9e6b00bf99",
   "metadata": {},
   "outputs": [
    {
     "data": {
      "text/plain": [
       "(10015, 2352)"
      ]
     },
     "execution_count": 3,
     "metadata": {},
     "output_type": "execute_result"
    }
   ],
   "source": [
    "y= data['label']\n",
    "x = data.drop(columns = ['label'])\n",
    "x.shape"
   ]
  },
  {
   "cell_type": "code",
   "execution_count": 4,
   "id": "a7c97e42-0986-4bbf-807c-d824141a27c2",
   "metadata": {},
   "outputs": [
    {
     "data": {
      "text/html": [
       "<div>\n",
       "<style scoped>\n",
       "    .dataframe tbody tr th:only-of-type {\n",
       "        vertical-align: middle;\n",
       "    }\n",
       "\n",
       "    .dataframe tbody tr th {\n",
       "        vertical-align: top;\n",
       "    }\n",
       "\n",
       "    .dataframe thead th {\n",
       "        text-align: right;\n",
       "    }\n",
       "</style>\n",
       "<table border=\"1\" class=\"dataframe\">\n",
       "  <thead>\n",
       "    <tr style=\"text-align: right;\">\n",
       "      <th></th>\n",
       "      <th>lesion_id</th>\n",
       "      <th>image_id</th>\n",
       "      <th>dx</th>\n",
       "      <th>dx_type</th>\n",
       "      <th>age</th>\n",
       "      <th>sex</th>\n",
       "      <th>localization</th>\n",
       "    </tr>\n",
       "  </thead>\n",
       "  <tbody>\n",
       "    <tr>\n",
       "      <th>0</th>\n",
       "      <td>HAM_0000118</td>\n",
       "      <td>ISIC_0027419</td>\n",
       "      <td>bkl</td>\n",
       "      <td>histo</td>\n",
       "      <td>80.0</td>\n",
       "      <td>male</td>\n",
       "      <td>scalp</td>\n",
       "    </tr>\n",
       "    <tr>\n",
       "      <th>1</th>\n",
       "      <td>HAM_0000118</td>\n",
       "      <td>ISIC_0025030</td>\n",
       "      <td>bkl</td>\n",
       "      <td>histo</td>\n",
       "      <td>80.0</td>\n",
       "      <td>male</td>\n",
       "      <td>scalp</td>\n",
       "    </tr>\n",
       "    <tr>\n",
       "      <th>2</th>\n",
       "      <td>HAM_0002730</td>\n",
       "      <td>ISIC_0026769</td>\n",
       "      <td>bkl</td>\n",
       "      <td>histo</td>\n",
       "      <td>80.0</td>\n",
       "      <td>male</td>\n",
       "      <td>scalp</td>\n",
       "    </tr>\n",
       "    <tr>\n",
       "      <th>3</th>\n",
       "      <td>HAM_0002730</td>\n",
       "      <td>ISIC_0025661</td>\n",
       "      <td>bkl</td>\n",
       "      <td>histo</td>\n",
       "      <td>80.0</td>\n",
       "      <td>male</td>\n",
       "      <td>scalp</td>\n",
       "    </tr>\n",
       "    <tr>\n",
       "      <th>4</th>\n",
       "      <td>HAM_0001466</td>\n",
       "      <td>ISIC_0031633</td>\n",
       "      <td>bkl</td>\n",
       "      <td>histo</td>\n",
       "      <td>75.0</td>\n",
       "      <td>male</td>\n",
       "      <td>ear</td>\n",
       "    </tr>\n",
       "  </tbody>\n",
       "</table>\n",
       "</div>"
      ],
      "text/plain": [
       "     lesion_id      image_id   dx dx_type   age   sex localization\n",
       "0  HAM_0000118  ISIC_0027419  bkl   histo  80.0  male        scalp\n",
       "1  HAM_0000118  ISIC_0025030  bkl   histo  80.0  male        scalp\n",
       "2  HAM_0002730  ISIC_0026769  bkl   histo  80.0  male        scalp\n",
       "3  HAM_0002730  ISIC_0025661  bkl   histo  80.0  male        scalp\n",
       "4  HAM_0001466  ISIC_0031633  bkl   histo  75.0  male          ear"
      ]
     },
     "execution_count": 4,
     "metadata": {},
     "output_type": "execute_result"
    }
   ],
   "source": [
    "other = pd.read_csv(r'C:\\Users\\MDP\\Documents\\Proje_B\\Inputs\\HAM10000_metadata.csv')\n",
    "other.head()"
   ]
  },
  {
   "cell_type": "code",
   "execution_count": 5,
   "id": "8b1fa1af-2564-4b3b-b076-736f279defdc",
   "metadata": {},
   "outputs": [],
   "source": [
    "classes = {4: ('nv', 'melanocytic nevi'),\n",
    "         6: ('mel', 'melanoma'),\n",
    "         2: ('bkl', 'benign keratosis-like lesions'),\n",
    "         1: ('bcc', 'basal cell carcinoma'),\n",
    "         5: ('vasc', 'pyogenic granulomas and hemorrhage'),\n",
    "         0: ('akiec', 'Actinic keratoses and intraepithelial carcinomae'),\n",
    "         3: ('df', 'dermatofibroma')}"
   ]
  },
  {
   "cell_type": "code",
   "execution_count": 6,
   "id": "283737d7-8e4b-4798-88ee-234de1ba68b9",
   "metadata": {
    "tags": []
   },
   "outputs": [
    {
     "data": {
      "text/plain": [
       "<AxesSubplot:xlabel='dx', ylabel='count'>"
      ]
     },
     "execution_count": 6,
     "metadata": {},
     "output_type": "execute_result"
    },
    {
     "data": {
      "image/png": "[encoded data removed]",
      "text/plain": [
       "<Figure size 432x288 with 1 Axes>"
      ]
     },
     "metadata": {
      "needs_background": "light"
     },
     "output_type": "display_data"
    }
   ],
   "source": [
    "plt.figure(figsize=(6,4))\n",
    "sns.countplot(x='dx',data=other)"
   ]
  },
  {
   "cell_type": "code",
   "execution_count": 11,
   "id": "af4fd9d9-4f7e-4234-a2ed-180e0d20e11f",
   "metadata": {},
   "outputs": [
    {
     "data": {
      "text/plain": [
       "<matplotlib.image.AxesImage at 0x22e8ea72e80>"
      ]
     },
     "execution_count": 11,
     "metadata": {},
     "output_type": "execute_result"
    },
    {
     "data": {
      "image/png": "[encoded data removed]",
      "text/plain": [
       "<Figure size 432x288 with 1 Axes>"
      ]
     },
     "metadata": {
      "needs_background": "light"
     },
     "output_type": "display_data"
    }
   ],
   "source": [
    "plt.imshow(x.iloc[0].values.reshape(28,28,3))"
   ]
  },
  {
   "cell_type": "code",
   "execution_count": 7,
   "id": "c90cf12a-9684-4b2e-b366-47e080b1753e",
   "metadata": {},
   "outputs": [
    {
     "data": {
      "text/plain": [
       "(10015, 2352)"
      ]
     },
     "execution_count": 7,
     "metadata": {},
     "output_type": "execute_result"
    }
   ],
   "source": [
    "x.shape"
   ]
  },
  {
   "cell_type": "code",
   "execution_count": 8,
   "id": "8f48b1a8-edf5-42cb-b2ee-9e433213b87a",
   "metadata": {},
   "outputs": [
    {
     "data": {
      "text/plain": [
       "(10015, 28, 28, 3)"
      ]
     },
     "execution_count": 8,
     "metadata": {},
     "output_type": "execute_result"
    }
   ],
   "source": [
    "x= np.array(x).reshape(-1,28,28,3)\n",
    "x.shape"
   ]
  },
  {
   "cell_type": "code",
   "execution_count": 23,
   "id": "fe9ec0a4-1c1c-4c0d-988a-44ac382e1f2a",
   "metadata": {},
   "outputs": [
    {
     "data": {
      "text/plain": [
       "<matplotlib.image.AxesImage at 0x2e0f7b0ab80>"
      ]
     },
     "execution_count": 23,
     "metadata": {},
     "output_type": "execute_result"
    },
    {
     "data": {
      "image/png": "[encoded data removed]",
      "text/plain": [
       "<Figure size 432x288 with 1 Axes>"
      ]
     },
     "metadata": {
      "needs_background": "light"
     },
     "output_type": "display_data"
    }
   ],
   "source": [
    "plt.imshow(x[100])"
   ]
  },
  {
   "cell_type": "code",
   "execution_count": 19,
   "id": "26d20d0e-872f-42be-a972-7de04531a300",
   "metadata": {},
   "outputs": [
    {
     "data": {
      "text/plain": [
       "(10015,)"
      ]
     },
     "execution_count": 19,
     "metadata": {},
     "output_type": "execute_result"
    }
   ],
   "source": [
    "y.shape"
   ]
  },
  {
   "cell_type": "code",
   "execution_count": 9,
   "id": "96df02fb-effb-4b06-a086-ab7b6f59bc0c",
   "metadata": {},
   "outputs": [],
   "source": [
    "x=x/255.0"
   ]
  },
  {
   "cell_type": "code",
   "execution_count": 10,
   "id": "df0d4238-d199-4949-889c-85548b522b94",
   "metadata": {
    "tags": []
   },
   "outputs": [
    {
     "data": {
      "text/plain": [
       "array([[[0.09803922, 0.05490196, 0.11764706],\n",
       "        [0.26666667, 0.18823529, 0.29411765],\n",
       "        [0.48235294, 0.36470588, 0.49411765],\n",
       "        ...,\n",
       "        [0.48235294, 0.36078431, 0.38823529],\n",
       "        [0.30980392, 0.20784314, 0.29019608],\n",
       "        [0.23137255, 0.14509804, 0.24313725]],\n",
       "\n",
       "       [[0.16470588, 0.10980392, 0.19215686],\n",
       "        [0.38039216, 0.2745098 , 0.38039216],\n",
       "        [0.56470588, 0.43529412, 0.56862745],\n",
       "        ...,\n",
       "        [0.55294118, 0.42352941, 0.43137255],\n",
       "        [0.38431373, 0.27058824, 0.30588235],\n",
       "        [0.24705882, 0.15686275, 0.24705882]],\n",
       "\n",
       "       [[0.2627451 , 0.18431373, 0.27058824],\n",
       "        [0.4745098 , 0.34901961, 0.43529412],\n",
       "        [0.62745098, 0.47058824, 0.60784314],\n",
       "        ...,\n",
       "        [0.62745098, 0.49411765, 0.5372549 ],\n",
       "        [0.47843137, 0.36862745, 0.4       ],\n",
       "        [0.30196078, 0.21176471, 0.29019608]],\n",
       "\n",
       "       ...,\n",
       "\n",
       "       [[0.24705882, 0.15686275, 0.25882353],\n",
       "        [0.38039216, 0.26666667, 0.36470588],\n",
       "        [0.55294118, 0.42352941, 0.49019608],\n",
       "        ...,\n",
       "        [0.47843137, 0.32156863, 0.32941176],\n",
       "        [0.27843137, 0.19215686, 0.24705882],\n",
       "        [0.09803922, 0.05882353, 0.12156863]],\n",
       "\n",
       "       [[0.23921569, 0.14901961, 0.24313725],\n",
       "        [0.29411765, 0.2       , 0.31372549],\n",
       "        [0.45882353, 0.3254902 , 0.42352941],\n",
       "        ...,\n",
       "        [0.35686275, 0.22745098, 0.25098039],\n",
       "        [0.14901961, 0.08235294, 0.13333333],\n",
       "        [0.08627451, 0.04705882, 0.10196078]],\n",
       "\n",
       "       [[0.25490196, 0.16078431, 0.24705882],\n",
       "        [0.25490196, 0.16078431, 0.26666667],\n",
       "        [0.36078431, 0.24705882, 0.35686275],\n",
       "        ...,\n",
       "        [0.23529412, 0.15294118, 0.21568627],\n",
       "        [0.09803922, 0.05490196, 0.10980392],\n",
       "        [0.09803922, 0.05490196, 0.10588235]]])"
      ]
     },
     "execution_count": 10,
     "metadata": {},
     "output_type": "execute_result"
    }
   ],
   "source": [
    "x[1]"
   ]
  },
  {
   "cell_type": "code",
   "execution_count": 11,
   "id": "6c2a2741-1e2f-48be-a3a8-a6a8b02c531e",
   "metadata": {},
   "outputs": [],
   "source": [
    "from sklearn.model_selection import train_test_split"
   ]
  },
  {
   "cell_type": "code",
   "execution_count": 12,
   "id": "026fcd89-f967-4d14-ba65-ecc520cab43b",
   "metadata": {},
   "outputs": [],
   "source": [
    "X_train, X_test, y_train, y_test = train_test_split(x,\n",
    "                                                    y,\n",
    "                                                    test_size = 0.2,\n",
    "                                                    random_state=42)"
   ]
  },
  {
   "cell_type": "code",
   "execution_count": 16,
   "id": "7cca56cf-6352-45fd-99a9-791e8bc71095",
   "metadata": {
    "collapsed": true,
    "jupyter": {
     "outputs_hidden": true
    },
    "tags": []
   },
   "outputs": [
    {
     "data": {
      "text/plain": [
       "array([[[[0.89803922, 0.58039216, 0.65490196],\n",
       "         [0.90588235, 0.57647059, 0.65882353],\n",
       "         [0.90588235, 0.57254902, 0.66666667],\n",
       "         ...,\n",
       "         [0.92941176, 0.61568627, 0.6745098 ],\n",
       "         [0.92156863, 0.61176471, 0.67843137],\n",
       "         [0.91372549, 0.61176471, 0.67843137]],\n",
       "\n",
       "        [[0.89019608, 0.56862745, 0.63529412],\n",
       "         [0.89019608, 0.55686275, 0.63137255],\n",
       "         [0.90196078, 0.57254902, 0.65490196],\n",
       "         ...,\n",
       "         [0.91372549, 0.61568627, 0.67843137],\n",
       "         [0.90980392, 0.60784314, 0.66666667],\n",
       "         [0.90980392, 0.6       , 0.6627451 ]],\n",
       "\n",
       "        [[0.88235294, 0.56862745, 0.63529412],\n",
       "         [0.89411765, 0.56862745, 0.63921569],\n",
       "         [0.89411765, 0.56862745, 0.63921569],\n",
       "         ...,\n",
       "         [0.90980392, 0.60784314, 0.67058824],\n",
       "         [0.91372549, 0.60784314, 0.66666667],\n",
       "         [0.90980392, 0.60392157, 0.6627451 ]],\n",
       "\n",
       "        ...,\n",
       "\n",
       "        [[0.82745098, 0.52156863, 0.57254902],\n",
       "         [0.85490196, 0.55294118, 0.6       ],\n",
       "         [0.84705882, 0.52941176, 0.57254902],\n",
       "         ...,\n",
       "         [0.8627451 , 0.58823529, 0.61960784],\n",
       "         [0.85882353, 0.58823529, 0.61960784],\n",
       "         [0.85490196, 0.58823529, 0.61960784]],\n",
       "\n",
       "        [[0.81960784, 0.52156863, 0.57254902],\n",
       "         [0.83529412, 0.53333333, 0.58823529],\n",
       "         [0.83137255, 0.51372549, 0.56470588],\n",
       "         ...,\n",
       "         [0.8627451 , 0.58823529, 0.61176471],\n",
       "         [0.85098039, 0.57254902, 0.59215686],\n",
       "         [0.84313725, 0.57254902, 0.59607843]],\n",
       "\n",
       "        [[0.81960784, 0.5254902 , 0.57647059],\n",
       "         [0.82745098, 0.52156863, 0.57647059],\n",
       "         [0.83137255, 0.52156863, 0.57647059],\n",
       "         ...,\n",
       "         [0.85490196, 0.57254902, 0.59607843],\n",
       "         [0.85098039, 0.58039216, 0.59607843],\n",
       "         [0.84313725, 0.57647059, 0.6       ]]],\n",
       "\n",
       "\n",
       "       [[[0.62352941, 0.41176471, 0.56078431],\n",
       "         [0.62352941, 0.39215686, 0.5372549 ],\n",
       "         [0.61960784, 0.38039216, 0.51372549],\n",
       "         ...,\n",
       "         [0.74117647, 0.64705882, 0.78039216],\n",
       "         [0.73333333, 0.65098039, 0.75686275],\n",
       "         [0.71764706, 0.61960784, 0.7254902 ]],\n",
       "\n",
       "        [[0.62745098, 0.39607843, 0.54509804],\n",
       "         [0.63921569, 0.43137255, 0.58431373],\n",
       "         [0.63529412, 0.40392157, 0.55686275],\n",
       "         ...,\n",
       "         [0.74117647, 0.65098039, 0.77254902],\n",
       "         [0.74117647, 0.6627451 , 0.76862745],\n",
       "         [0.72941176, 0.64313725, 0.75294118]],\n",
       "\n",
       "        [[0.64313725, 0.40784314, 0.56078431],\n",
       "         [0.62745098, 0.36470588, 0.52941176],\n",
       "         [0.61960784, 0.40392157, 0.58039216],\n",
       "         ...,\n",
       "         [0.7254902 , 0.61176471, 0.71764706],\n",
       "         [0.7372549 , 0.65490196, 0.75686275],\n",
       "         [0.74117647, 0.6745098 , 0.78039216]],\n",
       "\n",
       "        ...,\n",
       "\n",
       "        [[0.69803922, 0.6       , 0.72156863],\n",
       "         [0.70588235, 0.60784314, 0.72156863],\n",
       "         [0.71764706, 0.62352941, 0.7372549 ],\n",
       "         ...,\n",
       "         [0.7254902 , 0.62352941, 0.73333333],\n",
       "         [0.69411765, 0.55294118, 0.65490196],\n",
       "         [0.65490196, 0.4745098 , 0.55294118]],\n",
       "\n",
       "        [[0.69019608, 0.58039216, 0.69019608],\n",
       "         [0.68627451, 0.58039216, 0.68627451],\n",
       "         [0.69411765, 0.59607843, 0.70196078],\n",
       "         ...,\n",
       "         [0.71372549, 0.56470588, 0.69019608],\n",
       "         [0.69411765, 0.51764706, 0.64705882],\n",
       "         [0.64705882, 0.44705882, 0.54509804]],\n",
       "\n",
       "        [[0.68235294, 0.55294118, 0.6627451 ],\n",
       "         [0.69019608, 0.57254902, 0.6745098 ],\n",
       "         [0.67843137, 0.54901961, 0.64313725],\n",
       "         ...,\n",
       "         [0.71372549, 0.57254902, 0.70196078],\n",
       "         [0.70196078, 0.5254902 , 0.66666667],\n",
       "         [0.6745098 , 0.4627451 , 0.6       ]]],\n",
       "\n",
       "\n",
       "       [[[0.03921569, 0.01960784, 0.03137255],\n",
       "         [0.21960784, 0.1372549 , 0.17647059],\n",
       "         [0.41568627, 0.29019608, 0.35294118],\n",
       "         ...,\n",
       "         [0.45098039, 0.36470588, 0.37647059],\n",
       "         [0.3254902 , 0.23921569, 0.2627451 ],\n",
       "         [0.16470588, 0.10196078, 0.1372549 ]],\n",
       "\n",
       "        [[0.12941176, 0.0745098 , 0.10588235],\n",
       "         [0.34901961, 0.23529412, 0.29411765],\n",
       "         [0.49803922, 0.37647059, 0.43529412],\n",
       "         ...,\n",
       "         [0.50980392, 0.42352941, 0.43529412],\n",
       "         [0.40784314, 0.32156863, 0.34509804],\n",
       "         [0.2627451 , 0.18431373, 0.21960784]],\n",
       "\n",
       "        [[0.25098039, 0.14901961, 0.18823529],\n",
       "         [0.44705882, 0.3254902 , 0.38039216],\n",
       "         [0.54117647, 0.42352941, 0.48235294],\n",
       "         ...,\n",
       "         [0.54117647, 0.44705882, 0.46666667],\n",
       "         [0.4745098 , 0.38431373, 0.40392157],\n",
       "         [0.34901961, 0.25882353, 0.29411765]],\n",
       "\n",
       "        ...,\n",
       "\n",
       "        [[0.43529412, 0.31372549, 0.36862745],\n",
       "         [0.54509804, 0.43137255, 0.49019608],\n",
       "         [0.61176471, 0.50588235, 0.56862745],\n",
       "         ...,\n",
       "         [0.56078431, 0.44705882, 0.51764706],\n",
       "         [0.52156863, 0.40784314, 0.4745098 ],\n",
       "         [0.43137255, 0.3254902 , 0.39215686]],\n",
       "\n",
       "        [[0.35686275, 0.24705882, 0.29411765],\n",
       "         [0.49803922, 0.38431373, 0.43529412],\n",
       "         [0.58431373, 0.4745098 , 0.52941176],\n",
       "         ...,\n",
       "         [0.54509804, 0.43529412, 0.50588235],\n",
       "         [0.48627451, 0.38039216, 0.45098039],\n",
       "         [0.37254902, 0.27058824, 0.3372549 ]],\n",
       "\n",
       "        [[0.27058824, 0.16470588, 0.20784314],\n",
       "         [0.44313725, 0.3254902 , 0.37647059],\n",
       "         [0.54901961, 0.43137255, 0.4745098 ],\n",
       "         ...,\n",
       "         [0.52156863, 0.40784314, 0.48235294],\n",
       "         [0.43529412, 0.3254902 , 0.39607843],\n",
       "         [0.28627451, 0.19215686, 0.25098039]]],\n",
       "\n",
       "\n",
       "       ...,\n",
       "\n",
       "\n",
       "       [[[0.84705882, 0.50588235, 0.55686275],\n",
       "         [0.85098039, 0.50196078, 0.55686275],\n",
       "         [0.84705882, 0.49803922, 0.56470588],\n",
       "         ...,\n",
       "         [0.81176471, 0.4627451 , 0.52156863],\n",
       "         [0.84705882, 0.50980392, 0.59607843],\n",
       "         [0.82352941, 0.48235294, 0.55294118]],\n",
       "\n",
       "        [[0.83529412, 0.48627451, 0.52941176],\n",
       "         [0.83529412, 0.48627451, 0.53333333],\n",
       "         [0.82745098, 0.47843137, 0.5254902 ],\n",
       "         ...,\n",
       "         [0.8       , 0.46666667, 0.51372549],\n",
       "         [0.81960784, 0.49803922, 0.56862745],\n",
       "         [0.81960784, 0.49019608, 0.55686275]],\n",
       "\n",
       "        [[0.83529412, 0.48627451, 0.53333333],\n",
       "         [0.84313725, 0.49411765, 0.54509804],\n",
       "         [0.83529412, 0.48627451, 0.52941176],\n",
       "         ...,\n",
       "         [0.81176471, 0.47058824, 0.51764706],\n",
       "         [0.79607843, 0.45882353, 0.50588235],\n",
       "         [0.81960784, 0.48627451, 0.54901961]],\n",
       "\n",
       "        ...,\n",
       "\n",
       "        [[0.76862745, 0.47843137, 0.49803922],\n",
       "         [0.76078431, 0.44705882, 0.46666667],\n",
       "         [0.76078431, 0.44705882, 0.4627451 ],\n",
       "         ...,\n",
       "         [0.78823529, 0.51372549, 0.49803922],\n",
       "         [0.78823529, 0.51372549, 0.49803922],\n",
       "         [0.77254902, 0.49803922, 0.47843137]],\n",
       "\n",
       "        [[0.76470588, 0.47843137, 0.49411765],\n",
       "         [0.76862745, 0.47058824, 0.48235294],\n",
       "         [0.76078431, 0.45490196, 0.47058824],\n",
       "         ...,\n",
       "         [0.78431373, 0.51372549, 0.48235294],\n",
       "         [0.79215686, 0.52156863, 0.50196078],\n",
       "         [0.76862745, 0.49803922, 0.47058824]],\n",
       "\n",
       "        [[0.76470588, 0.4745098 , 0.48627451],\n",
       "         [0.76078431, 0.4627451 , 0.4745098 ],\n",
       "         [0.76470588, 0.4627451 , 0.47843137],\n",
       "         ...,\n",
       "         [0.77647059, 0.50980392, 0.48235294],\n",
       "         [0.78039216, 0.50980392, 0.48627451],\n",
       "         [0.76862745, 0.50196078, 0.47843137]]],\n",
       "\n",
       "\n",
       "       [[[0.10588235, 0.05490196, 0.0627451 ],\n",
       "         [0.10980392, 0.05490196, 0.0627451 ],\n",
       "         [0.08627451, 0.04313725, 0.05098039],\n",
       "         ...,\n",
       "         [0.19215686, 0.10980392, 0.10980392],\n",
       "         [0.11764706, 0.05882353, 0.0627451 ],\n",
       "         [0.14509804, 0.0745098 , 0.06666667]],\n",
       "\n",
       "        [[0.11764706, 0.0627451 , 0.06666667],\n",
       "         [0.10588235, 0.05490196, 0.0627451 ],\n",
       "         [0.10196078, 0.04705882, 0.04313725],\n",
       "         ...,\n",
       "         [0.30588235, 0.21568627, 0.21568627],\n",
       "         [0.15294118, 0.08235294, 0.08627451],\n",
       "         [0.12941176, 0.06666667, 0.07058824]],\n",
       "\n",
       "        [[0.1254902 , 0.06666667, 0.0745098 ],\n",
       "         [0.10196078, 0.05098039, 0.05098039],\n",
       "         [0.16862745, 0.10196078, 0.10196078],\n",
       "         ...,\n",
       "         [0.43529412, 0.34901961, 0.35686275],\n",
       "         [0.2627451 , 0.16862745, 0.16862745],\n",
       "         [0.14509804, 0.0745098 , 0.0745098 ]],\n",
       "\n",
       "        ...,\n",
       "\n",
       "        [[0.17254902, 0.10196078, 0.1254902 ],\n",
       "         [0.38039216, 0.3254902 , 0.36470588],\n",
       "         [0.56078431, 0.49803922, 0.53333333],\n",
       "         ...,\n",
       "         [0.57647059, 0.49411765, 0.49019608],\n",
       "         [0.53333333, 0.43921569, 0.42745098],\n",
       "         [0.39607843, 0.31372549, 0.30588235]],\n",
       "\n",
       "        [[0.15686275, 0.0745098 , 0.08627451],\n",
       "         [0.25490196, 0.19607843, 0.23137255],\n",
       "         [0.50588235, 0.44705882, 0.49019608],\n",
       "         ...,\n",
       "         [0.56470588, 0.48235294, 0.4745098 ],\n",
       "         [0.48627451, 0.40392157, 0.38431373],\n",
       "         [0.29019608, 0.21176471, 0.21176471]],\n",
       "\n",
       "        [[0.18431373, 0.09019608, 0.10196078],\n",
       "         [0.17254902, 0.10196078, 0.12941176],\n",
       "         [0.38431373, 0.33333333, 0.37254902],\n",
       "         ...,\n",
       "         [0.54509804, 0.4627451 , 0.45490196],\n",
       "         [0.39607843, 0.31764706, 0.30588235],\n",
       "         [0.18431373, 0.11764706, 0.12941176]]],\n",
       "\n",
       "\n",
       "       [[[0.8745098 , 0.6627451 , 0.72156863],\n",
       "         [0.88235294, 0.6745098 , 0.7254902 ],\n",
       "         [0.89411765, 0.69803922, 0.78823529],\n",
       "         ...,\n",
       "         [0.85098039, 0.6627451 , 0.74901961],\n",
       "         [0.84313725, 0.64705882, 0.7372549 ],\n",
       "         [0.84313725, 0.65490196, 0.73333333]],\n",
       "\n",
       "        [[0.8745098 , 0.66666667, 0.72941176],\n",
       "         [0.89019608, 0.71372549, 0.77647059],\n",
       "         [0.89411765, 0.70196078, 0.77254902],\n",
       "         ...,\n",
       "         [0.85098039, 0.66666667, 0.76078431],\n",
       "         [0.84313725, 0.64313725, 0.7372549 ],\n",
       "         [0.84313725, 0.65098039, 0.7372549 ]],\n",
       "\n",
       "        [[0.89803922, 0.72941176, 0.81960784],\n",
       "         [0.90588235, 0.74901961, 0.82745098],\n",
       "         [0.89803922, 0.71372549, 0.77647059],\n",
       "         ...,\n",
       "         [0.83529412, 0.64705882, 0.74509804],\n",
       "         [0.85098039, 0.6627451 , 0.74901961],\n",
       "         [0.84313725, 0.64705882, 0.73333333]],\n",
       "\n",
       "        ...,\n",
       "\n",
       "        [[0.85098039, 0.66666667, 0.70980392],\n",
       "         [0.88235294, 0.70196078, 0.74117647],\n",
       "         [0.89411765, 0.71372549, 0.74509804],\n",
       "         ...,\n",
       "         [0.8745098 , 0.68235294, 0.74509804],\n",
       "         [0.87058824, 0.6745098 , 0.7372549 ],\n",
       "         [0.8627451 , 0.6627451 , 0.73333333]],\n",
       "\n",
       "        [[0.85490196, 0.65882353, 0.72156863],\n",
       "         [0.8745098 , 0.69019608, 0.74117647],\n",
       "         [0.89411765, 0.71764706, 0.75294118],\n",
       "         ...,\n",
       "         [0.8627451 , 0.64705882, 0.69411765],\n",
       "         [0.87058824, 0.67843137, 0.73333333],\n",
       "         [0.8627451 , 0.68235294, 0.74509804]],\n",
       "\n",
       "        [[0.86666667, 0.67058824, 0.74117647],\n",
       "         [0.8627451 , 0.67058824, 0.74117647],\n",
       "         [0.88235294, 0.70980392, 0.76470588],\n",
       "         ...,\n",
       "         [0.87058824, 0.6745098 , 0.74117647],\n",
       "         [0.87058824, 0.69019608, 0.74901961],\n",
       "         [0.86666667, 0.69019608, 0.76078431]]]])"
      ]
     },
     "execution_count": 16,
     "metadata": {},
     "output_type": "execute_result"
    }
   ],
   "source": [
    "X_train"
   ]
  },
  {
   "cell_type": "code",
   "execution_count": 13,
   "id": "8c1ee013-c5e3-454f-8138-cef0e2054f6f",
   "metadata": {},
   "outputs": [
    {
     "data": {
      "text/plain": [
       "(8012, 28, 28, 3)"
      ]
     },
     "execution_count": 13,
     "metadata": {},
     "output_type": "execute_result"
    }
   ],
   "source": [
    "X_train.shape"
   ]
  },
  {
   "cell_type": "code",
   "execution_count": 26,
   "id": "9269fd84-1022-4f5c-b050-a940dc64e81a",
   "metadata": {
    "tags": []
   },
   "outputs": [
    {
     "data": {
      "text/plain": [
       "6582    4\n",
       "7194    4\n",
       "9446    4\n",
       "533     2\n",
       "132     2\n",
       "       ..\n",
       "5734    4\n",
       "5191    4\n",
       "5390    4\n",
       "860     2\n",
       "7270    4\n",
       "Name: label, Length: 8012, dtype: int64"
      ]
     },
     "execution_count": 26,
     "metadata": {},
     "output_type": "execute_result"
    }
   ],
   "source": [
    "y_train"
   ]
  },
  {
   "cell_type": "code",
   "execution_count": 14,
   "id": "6a4beaea-e27e-49f4-afd9-8f5fdae0159b",
   "metadata": {},
   "outputs": [
    {
     "data": {
      "text/plain": [
       "array([[0., 0., 0., ..., 1., 0., 0.],\n",
       "       [0., 0., 0., ..., 1., 0., 0.],\n",
       "       [0., 0., 0., ..., 1., 0., 0.],\n",
       "       ...,\n",
       "       [0., 0., 0., ..., 1., 0., 0.],\n",
       "       [0., 0., 1., ..., 0., 0., 0.],\n",
       "       [0., 0., 0., ..., 1., 0., 0.]], dtype=float32)"
      ]
     },
     "execution_count": 14,
     "metadata": {},
     "output_type": "execute_result"
    }
   ],
   "source": [
    "from tensorflow.keras.utils import to_categorical\n",
    "\n",
    "y_train_one_hot = to_categorical(y_train)\n",
    "y_train_one_hot"
   ]
  },
  {
   "cell_type": "code",
   "execution_count": 19,
   "id": "64087308-5169-4be6-aa9f-c23fba6ebe6b",
   "metadata": {},
   "outputs": [
    {
     "data": {
      "text/plain": [
       "7"
      ]
     },
     "execution_count": 19,
     "metadata": {},
     "output_type": "execute_result"
    }
   ],
   "source": [
    "y_train.nunique()"
   ]
  },
  {
   "cell_type": "code",
   "execution_count": 15,
   "id": "295ba798-11c1-4c97-bed5-450fbfdb755d",
   "metadata": {},
   "outputs": [],
   "source": [
    "from tensorflow.keras.layers import Input, Lambda, Dense, Flatten,Conv2D,MaxPooling2D,Dropout,BatchNormalization,GlobalMaxPooling2D\n",
    "from tensorflow.keras.models import Model\n",
    "from tensorflow.keras.applications import ResNet152V2 \n",
    "\n",
    "from tensorflow.keras.preprocessing import image\n",
    "from tensorflow.keras.preprocessing.image import ImageDataGenerator,load_img\n",
    "from tensorflow.keras.models import Sequential\n",
    "import tensorflow as tf"
   ]
  },
  {
   "cell_type": "code",
   "execution_count": 16,
   "id": "83a168e7-1bee-48b1-8339-611dc0dd265d",
   "metadata": {},
   "outputs": [],
   "source": [
    "IMAGE_SIZE = [28,28]"
   ]
  },
  {
   "cell_type": "code",
   "execution_count": 22,
   "id": "fb7192c7-88e4-4ae8-a658-be8adc814057",
   "metadata": {},
   "outputs": [],
   "source": [
    "i = Input(shape=(28,28,3))\n",
    "x = Conv2D(32, (3, 3), activation='relu', padding='same')(i)\n",
    "x = BatchNormalization()(x)\n",
    "x = Conv2D(32, (3, 3), activation='relu', padding='same')(x)\n",
    "x = BatchNormalization()(x)\n",
    "x = MaxPooling2D((2, 2))(x)\n",
    "x = Dropout(0.2)(x)\n",
    "x = Conv2D(64, (3, 3), activation='relu', padding='same')(x)\n",
    "x = BatchNormalization()(x)\n",
    "x = Conv2D(64, (3, 3), activation='relu', padding='same')(x)\n",
    "x = BatchNormalization()(x)\n",
    "x = MaxPooling2D((2, 2))(x)\n",
    "x = Dropout(0.2)(x)\n",
    "x = Conv2D(128, (3, 3), activation='relu', padding='same')(x)\n",
    "x = BatchNormalization()(x)\n",
    "x = Conv2D(128, (3, 3), activation='relu', padding='same')(x)\n",
    "x = BatchNormalization()(x)\n",
    "x = MaxPooling2D((2, 2))(x)\n",
    "x = Dropout(0.2)(x)\n",
    "\n",
    "x = GlobalMaxPooling2D()(x)\n",
    "x = Flatten()(x)\n",
    "x = Dropout(0.2)(x)\n",
    "x = Dense(256, activation='relu')(x)\n",
    "x = Dropout(0.2)(x)\n",
    "x = Dense(7, activation='softmax')(x)\n",
    "\n",
    "model = Model(i, x)"
   ]
  },
  {
   "cell_type": "code",
   "execution_count": 23,
   "id": "aaa9f9f2-1402-4b9c-9218-34824b6c8d29",
   "metadata": {},
   "outputs": [
    {
     "name": "stdout",
     "output_type": "stream",
     "text": [
      "Model: \"model\"\n",
      "_________________________________________________________________\n",
      " Layer (type)                Output Shape              Param #   \n",
      "=================================================================\n",
      " input_1 (InputLayer)        [(None, 28, 28, 3)]       0         \n",
      "                                                                 \n",
      " conv2d (Conv2D)             (None, 28, 28, 32)        896       \n",
      "                                                                 \n",
      " batch_normalization (BatchN  (None, 28, 28, 32)       128       \n",
      " ormalization)                                                   \n",
      "                                                                 \n",
      " conv2d_1 (Conv2D)           (None, 28, 28, 32)        9248      \n",
      "                                                                 \n",
      " batch_normalization_1 (Batc  (None, 28, 28, 32)       128       \n",
      " hNormalization)                                                 \n",
      "                                                                 \n",
      " max_pooling2d (MaxPooling2D  (None, 14, 14, 32)       0         \n",
      " )                                                               \n",
      "                                                                 \n",
      " dropout (Dropout)           (None, 14, 14, 32)        0         \n",
      "                                                                 \n",
      " conv2d_2 (Conv2D)           (None, 14, 14, 64)        18496     \n",
      "                                                                 \n",
      " batch_normalization_2 (Batc  (None, 14, 14, 64)       256       \n",
      " hNormalization)                                                 \n",
      "                                                                 \n",
      " conv2d_3 (Conv2D)           (None, 14, 14, 64)        36928     \n",
      "                                                                 \n",
      " batch_normalization_3 (Batc  (None, 14, 14, 64)       256       \n",
      " hNormalization)                                                 \n",
      "                                                                 \n",
      " max_pooling2d_1 (MaxPooling  (None, 7, 7, 64)         0         \n",
      " 2D)                                                             \n",
      "                                                                 \n",
      " dropout_1 (Dropout)         (None, 7, 7, 64)          0         \n",
      "                                                                 \n",
      " conv2d_4 (Conv2D)           (None, 7, 7, 128)         73856     \n",
      "                                                                 \n",
      " batch_normalization_4 (Batc  (None, 7, 7, 128)        512       \n",
      " hNormalization)                                                 \n",
      "                                                                 \n",
      " conv2d_5 (Conv2D)           (None, 7, 7, 128)         147584    \n",
      "                                                                 \n",
      " batch_normalization_5 (Batc  (None, 7, 7, 128)        512       \n",
      " hNormalization)                                                 \n",
      "                                                                 \n",
      " max_pooling2d_2 (MaxPooling  (None, 3, 3, 128)        0         \n",
      " 2D)                                                             \n",
      "                                                                 \n",
      " dropout_2 (Dropout)         (None, 3, 3, 128)         0         \n",
      "                                                                 \n",
      " global_max_pooling2d (Globa  (None, 128)              0         \n",
      " lMaxPooling2D)                                                  \n",
      "                                                                 \n",
      " flatten (Flatten)           (None, 128)               0         \n",
      "                                                                 \n",
      " dropout_3 (Dropout)         (None, 128)               0         \n",
      "                                                                 \n",
      " dense (Dense)               (None, 256)               33024     \n",
      "                                                                 \n",
      " dropout_4 (Dropout)         (None, 256)               0         \n",
      "                                                                 \n",
      " dense_1 (Dense)             (None, 7)                 1799      \n",
      "                                                                 \n",
      "=================================================================\n",
      "Total params: 323,623\n",
      "Trainable params: 322,727\n",
      "Non-trainable params: 896\n",
      "_________________________________________________________________\n"
     ]
    }
   ],
   "source": [
    "model.summary()"
   ]
  },
  {
   "cell_type": "code",
   "execution_count": 24,
   "id": "d4f66cb4-0d31-44a4-a35e-fe503d1f516d",
   "metadata": {},
   "outputs": [],
   "source": [
    "model.compile(\n",
    "  loss='sparse_categorical_crossentropy',\n",
    "  optimizer='adam',\n",
    "  metrics=['accuracy']\n",
    ")"
   ]
  },
  {
   "cell_type": "code",
   "execution_count": 25,
   "id": "0746ecec-329a-4b2d-9345-57a0f339fcae",
   "metadata": {},
   "outputs": [
    {
     "name": "stdout",
     "output_type": "stream",
     "text": [
      "Epoch 1/20\n",
      "101/101 [==============================] - 31s 288ms/step - loss: 1.1416 - accuracy: 0.6369 - val_loss: 1.8587 - val_accuracy: 0.0543\n",
      "Epoch 2/20\n",
      "101/101 [==============================] - 28s 275ms/step - loss: 0.8487 - accuracy: 0.6862 - val_loss: 1.4570 - val_accuracy: 0.2832\n",
      "Epoch 3/20\n",
      "101/101 [==============================] - 33s 324ms/step - loss: 0.8011 - accuracy: 0.7092 - val_loss: 1.2158 - val_accuracy: 0.6706\n",
      "Epoch 4/20\n",
      "101/101 [==============================] - 30s 298ms/step - loss: 0.7604 - accuracy: 0.7201 - val_loss: 1.2827 - val_accuracy: 0.5346\n",
      "Epoch 5/20\n",
      "101/101 [==============================] - 33s 324ms/step - loss: 0.7435 - accuracy: 0.7285 - val_loss: 0.8607 - val_accuracy: 0.6756\n",
      "Epoch 6/20\n",
      "101/101 [==============================] - 32s 315ms/step - loss: 0.7150 - accuracy: 0.7410 - val_loss: 0.8958 - val_accuracy: 0.6744\n",
      "Epoch 7/20\n",
      "101/101 [==============================] - 33s 331ms/step - loss: 0.6883 - accuracy: 0.7450 - val_loss: 0.9220 - val_accuracy: 0.6394\n",
      "Epoch 8/20\n",
      "101/101 [==============================] - 30s 296ms/step - loss: 0.6776 - accuracy: 0.7550 - val_loss: 1.3748 - val_accuracy: 0.5552\n",
      "Epoch 9/20\n",
      "101/101 [==============================] - 33s 329ms/step - loss: 0.6635 - accuracy: 0.7578 - val_loss: 0.7297 - val_accuracy: 0.7430\n",
      "Epoch 10/20\n",
      "101/101 [==============================] - 34s 336ms/step - loss: 0.6438 - accuracy: 0.7656 - val_loss: 0.8228 - val_accuracy: 0.7105\n",
      "Epoch 11/20\n",
      "101/101 [==============================] - 31s 302ms/step - loss: 0.6314 - accuracy: 0.7655 - val_loss: 0.7328 - val_accuracy: 0.7417\n",
      "Epoch 12/20\n",
      "101/101 [==============================] - 29s 286ms/step - loss: 0.6194 - accuracy: 0.7680 - val_loss: 1.2231 - val_accuracy: 0.6769\n",
      "Epoch 13/20\n",
      "101/101 [==============================] - 30s 302ms/step - loss: 0.5961 - accuracy: 0.7755 - val_loss: 0.9772 - val_accuracy: 0.6787\n",
      "Epoch 14/20\n",
      "101/101 [==============================] - 32s 314ms/step - loss: 0.5956 - accuracy: 0.7763 - val_loss: 0.7207 - val_accuracy: 0.7424\n",
      "Epoch 15/20\n",
      "101/101 [==============================] - 32s 316ms/step - loss: 0.6029 - accuracy: 0.7716 - val_loss: 0.7524 - val_accuracy: 0.7124\n",
      "Epoch 16/20\n",
      "101/101 [==============================] - 34s 336ms/step - loss: 0.5809 - accuracy: 0.7844 - val_loss: 0.7661 - val_accuracy: 0.7187\n",
      "Epoch 17/20\n",
      "101/101 [==============================] - 31s 308ms/step - loss: 0.5529 - accuracy: 0.7922 - val_loss: 0.7717 - val_accuracy: 0.7305\n",
      "Epoch 18/20\n",
      "101/101 [==============================] - 31s 308ms/step - loss: 0.5506 - accuracy: 0.7937 - val_loss: 0.6487 - val_accuracy: 0.7636\n",
      "Epoch 19/20\n",
      "101/101 [==============================] - 34s 333ms/step - loss: 0.5477 - accuracy: 0.7978 - val_loss: 0.9191 - val_accuracy: 0.6532\n",
      "Epoch 20/20\n",
      "101/101 [==============================] - 42s 413ms/step - loss: 0.5315 - accuracy: 0.7978 - val_loss: 0.8675 - val_accuracy: 0.6881\n"
     ]
    }
   ],
   "source": [
    "r = model.fit(X_train, y_train, batch_size = 64, epochs = 20, validation_split=0.2)"
   ]
  },
  {
   "cell_type": "code",
   "execution_count": 27,
   "id": "e7185b52-7153-4fc8-b687-21b6208b1f9d",
   "metadata": {},
   "outputs": [
    {
     "data": {
      "image/png": "[encoded data removed]",
      "text/plain": [
       "<Figure size 432x288 with 1 Axes>"
      ]
     },
     "metadata": {
      "needs_background": "light"
     },
     "output_type": "display_data"
    }
   ],
   "source": [
    "plt.plot(r.history['loss'])\n",
    "plt.plot(r.history['val_loss'])\n",
    "plt.title('Cross Entropy Loss')\n",
    "plt.ylabel('Loss')\n",
    "plt.xlabel('Epoch')\n",
    "plt.legend(['Loss', 'Val_Loss'], loc='upper right')\n",
    "plt.show()"
   ]
  },
  {
   "cell_type": "code",
   "execution_count": 26,
   "id": "447f7578-7ff0-486c-acad-93fb0d5f040c",
   "metadata": {},
   "outputs": [
    {
     "data": {
      "image/png": "[encoded data removed]",
      "text/plain": [
       "<Figure size 432x288 with 1 Axes>"
      ]
     },
     "metadata": {
      "needs_background": "light"
     },
     "output_type": "display_data"
    }
   ],
   "source": [
    "plt.plot(r.history['accuracy'])\n",
    "plt.plot(r.history['val_accuracy'])\n",
    "plt.title('Model Accuracy')\n",
    "plt.ylabel('Accuracy')\n",
    "plt.xlabel('Epoch')\n",
    "plt.legend(['Train_Acc', 'Val_Acc'], loc='lower right')\n",
    "plt.show()"
   ]
  },
  {
   "cell_type": "code",
   "execution_count": 28,
   "id": "04f1fcc7-3b6a-47d0-b46f-52d38a7caa9f",
   "metadata": {},
   "outputs": [
    {
     "name": "stdout",
     "output_type": "stream",
     "text": [
      "251/251 [==============================] - 13s 50ms/step - loss: 0.7972 - accuracy: 0.7059\n"
     ]
    },
    {
     "data": {
      "text/plain": [
       "[0.7971805930137634, 0.7059410810470581]"
      ]
     },
     "execution_count": 28,
     "metadata": {},
     "output_type": "execute_result"
    }
   ],
   "source": [
    "model.evaluate(X_train, y_train)\n"
   ]
  },
  {
   "cell_type": "code",
   "execution_count": 37,
   "id": "77f8ca88-ed17-4c98-b27b-b69f9afc23a1",
   "metadata": {},
   "outputs": [
    {
     "name": "stdout",
     "output_type": "stream",
     "text": [
      "63/63 [==============================] - 2s 32ms/step - loss: 0.9072 - accuracy: 0.7109\n"
     ]
    },
    {
     "data": {
      "text/plain": [
       "[0.9072487950325012, 0.7109336256980896]"
      ]
     },
     "execution_count": 37,
     "metadata": {},
     "output_type": "execute_result"
    }
   ],
   "source": [
    "model.evaluate(X_test,y_test)"
   ]
  },
  {
   "cell_type": "code",
   "execution_count": 38,
   "id": "d9819d77-45f8-4739-8495-aa156e06c812",
   "metadata": {},
   "outputs": [
    {
     "data": {
      "text/plain": [
       "array([[5.66748857e-01, 6.12008199e-02, 2.38163099e-01, ...,\n",
       "        2.72781383e-02, 1.58113404e-03, 4.11233716e-02],\n",
       "       [2.83903559e-03, 2.23724283e-02, 1.34949103e-01, ...,\n",
       "        7.18725920e-01, 3.22600757e-03, 1.79886539e-02],\n",
       "       [8.87355566e-01, 6.78375363e-02, 1.16918162e-02, ...,\n",
       "        1.46523528e-02, 2.91915276e-05, 1.71460258e-03],\n",
       "       ...,\n",
       "       [3.57158594e-02, 6.42542690e-02, 1.03269443e-01, ...,\n",
       "        6.36899590e-01, 5.75042190e-03, 1.24550276e-01],\n",
       "       [1.24480878e-03, 1.36377243e-03, 1.76693007e-01, ...,\n",
       "        3.71593684e-01, 5.40465553e-05, 4.48834956e-01],\n",
       "       [5.26835676e-04, 2.09375852e-04, 6.74145157e-03, ...,\n",
       "        9.73518372e-01, 1.29761465e-05, 1.85309630e-02]], dtype=float32)"
      ]
     },
     "execution_count": 38,
     "metadata": {},
     "output_type": "execute_result"
    }
   ],
   "source": [
    "#Test veri kümesini sınıflandırıcıya gönder\n",
    "y_pred = model.predict(X_test)\n",
    "y_pred"
   ]
  },
  {
   "cell_type": "markdown",
   "id": "983e694a-03a9-4613-8f3d-b11499dce2cb",
   "metadata": {},
   "source": [
    "## CNN"
   ]
  },
  {
   "cell_type": "code",
   "execution_count": 18,
   "id": "f1994903-fb31-4e87-ab42-d4356ae88e43",
   "metadata": {},
   "outputs": [],
   "source": [
    "from keras.layers import Dense, Dropout, Flatten, Conv2D, MaxPool2D"
   ]
  },
  {
   "cell_type": "code",
   "execution_count": 24,
   "id": "818ade82-5119-4730-bcc4-21956df900a0",
   "metadata": {},
   "outputs": [],
   "source": [
    "input_shape = (28, 28, 3)\n",
    "num_classes = 7\n",
    "\n",
    "model = Sequential()\n",
    "model.add(Conv2D(32, kernel_size=(3, 3),activation='relu',padding = 'Same',input_shape=input_shape))\n",
    "model.add(Conv2D(32,kernel_size=(3, 3), activation='relu',padding = 'Same',))\n",
    "model.add(MaxPool2D(pool_size = (2, 2)))\n",
    "model.add(Dropout(0.25))\n",
    "\n",
    "model.add(Conv2D(64, (3, 3), activation='relu',padding = 'Same'))\n",
    "model.add(Conv2D(64, (3, 3), activation='relu',padding = 'Same'))\n",
    "model.add(MaxPool2D(pool_size=(2, 2)))\n",
    "model.add(Dropout(0.40))\n",
    "\n",
    "model.add(Flatten())\n",
    "model.add(Dense(128, activation='relu'))\n",
    "model.add(Dropout(0.5))\n",
    "model.add(Dense(num_classes, activation='softmax'))"
   ]
  },
  {
   "cell_type": "code",
   "execution_count": 25,
   "id": "7a725fbf-e0ca-4ea3-8159-91554347a480",
   "metadata": {},
   "outputs": [
    {
     "name": "stdout",
     "output_type": "stream",
     "text": [
      "Model: \"sequential_2\"\n",
      "_________________________________________________________________\n",
      " Layer (type)                Output Shape              Param #   \n",
      "=================================================================\n",
      " conv2d_6 (Conv2D)           (None, 28, 28, 32)        896       \n",
      "                                                                 \n",
      " conv2d_7 (Conv2D)           (None, 28, 28, 32)        9248      \n",
      "                                                                 \n",
      " max_pooling2d_2 (MaxPooling  (None, 14, 14, 32)       0         \n",
      " 2D)                                                             \n",
      "                                                                 \n",
      " dropout_3 (Dropout)         (None, 14, 14, 32)        0         \n",
      "                                                                 \n",
      " conv2d_8 (Conv2D)           (None, 14, 14, 64)        18496     \n",
      "                                                                 \n",
      " conv2d_9 (Conv2D)           (None, 14, 14, 64)        36928     \n",
      "                                                                 \n",
      " max_pooling2d_3 (MaxPooling  (None, 7, 7, 64)         0         \n",
      " 2D)                                                             \n",
      "                                                                 \n",
      " dropout_4 (Dropout)         (None, 7, 7, 64)          0         \n",
      "                                                                 \n",
      " flatten_1 (Flatten)         (None, 3136)              0         \n",
      "                                                                 \n",
      " dense_2 (Dense)             (None, 128)               401536    \n",
      "                                                                 \n",
      " dropout_5 (Dropout)         (None, 128)               0         \n",
      "                                                                 \n",
      " dense_3 (Dense)             (None, 7)                 903       \n",
      "                                                                 \n",
      "=================================================================\n",
      "Total params: 468,007\n",
      "Trainable params: 468,007\n",
      "Non-trainable params: 0\n",
      "_________________________________________________________________\n"
     ]
    }
   ],
   "source": [
    "model.summary()"
   ]
  },
  {
   "cell_type": "code",
   "execution_count": 26,
   "id": "af4eddb2-def6-4342-875c-f840eac0875a",
   "metadata": {},
   "outputs": [],
   "source": [
    "model.compile(\n",
    "  loss='sparse_categorical_crossentropy',\n",
    "  optimizer='adam',\n",
    "  metrics=['accuracy']\n",
    ")"
   ]
  },
  {
   "cell_type": "code",
   "execution_count": 27,
   "id": "f2261a2d-a2a9-45a4-81b7-c2a0589a249d",
   "metadata": {},
   "outputs": [
    {
     "name": "stdout",
     "output_type": "stream",
     "text": [
      "Epoch 1/20\n",
      "101/101 [==============================] - 19s 182ms/step - loss: 1.1342 - accuracy: 0.6620 - val_loss: 1.0927 - val_accuracy: 0.6719\n",
      "Epoch 2/20\n",
      "101/101 [==============================] - 19s 183ms/step - loss: 0.9976 - accuracy: 0.6692 - val_loss: 0.9344 - val_accuracy: 0.6719\n",
      "Epoch 3/20\n",
      "101/101 [==============================] - 19s 185ms/step - loss: 0.9459 - accuracy: 0.6694 - val_loss: 0.9255 - val_accuracy: 0.6712\n",
      "Epoch 4/20\n",
      "101/101 [==============================] - 20s 199ms/step - loss: 0.9132 - accuracy: 0.6695 - val_loss: 0.8542 - val_accuracy: 0.6706\n",
      "Epoch 5/20\n",
      "101/101 [==============================] - 23s 230ms/step - loss: 0.8907 - accuracy: 0.6716 - val_loss: 0.8591 - val_accuracy: 0.6712\n",
      "Epoch 6/20\n",
      "101/101 [==============================] - 19s 191ms/step - loss: 0.8840 - accuracy: 0.6736 - val_loss: 0.8498 - val_accuracy: 0.6843\n",
      "Epoch 7/20\n",
      "101/101 [==============================] - 18s 174ms/step - loss: 0.8524 - accuracy: 0.6781 - val_loss: 0.8221 - val_accuracy: 0.6862\n",
      "Epoch 8/20\n",
      "101/101 [==============================] - 18s 180ms/step - loss: 0.8568 - accuracy: 0.6870 - val_loss: 0.8509 - val_accuracy: 0.6818\n",
      "Epoch 9/20\n",
      "101/101 [==============================] - 19s 189ms/step - loss: 0.8232 - accuracy: 0.6929 - val_loss: 0.8115 - val_accuracy: 0.7074\n",
      "Epoch 10/20\n",
      "101/101 [==============================] - 19s 190ms/step - loss: 0.8333 - accuracy: 0.6926 - val_loss: 0.7738 - val_accuracy: 0.7080\n",
      "Epoch 11/20\n",
      "101/101 [==============================] - 20s 195ms/step - loss: 0.8087 - accuracy: 0.6915 - val_loss: 0.7664 - val_accuracy: 0.7112\n",
      "Epoch 12/20\n",
      "101/101 [==============================] - 19s 191ms/step - loss: 0.7984 - accuracy: 0.7029 - val_loss: 0.7505 - val_accuracy: 0.7137\n",
      "Epoch 13/20\n",
      "101/101 [==============================] - 22s 215ms/step - loss: 0.7628 - accuracy: 0.7084 - val_loss: 0.7510 - val_accuracy: 0.7105\n",
      "Epoch 14/20\n",
      "101/101 [==============================] - 20s 198ms/step - loss: 0.7610 - accuracy: 0.7135 - val_loss: 0.7544 - val_accuracy: 0.7130\n",
      "Epoch 15/20\n",
      "101/101 [==============================] - 20s 202ms/step - loss: 0.7480 - accuracy: 0.7220 - val_loss: 0.7264 - val_accuracy: 0.7230\n",
      "Epoch 16/20\n",
      "101/101 [==============================] - 19s 193ms/step - loss: 0.7450 - accuracy: 0.7218 - val_loss: 0.7276 - val_accuracy: 0.7261\n",
      "Epoch 17/20\n",
      "101/101 [==============================] - 19s 189ms/step - loss: 0.7259 - accuracy: 0.7254 - val_loss: 0.6946 - val_accuracy: 0.7305\n",
      "Epoch 18/20\n",
      "101/101 [==============================] - 19s 191ms/step - loss: 0.7088 - accuracy: 0.7351 - val_loss: 0.7087 - val_accuracy: 0.7293\n",
      "Epoch 19/20\n",
      "101/101 [==============================] - 19s 184ms/step - loss: 0.7033 - accuracy: 0.7407 - val_loss: 0.6986 - val_accuracy: 0.7305\n",
      "Epoch 20/20\n",
      "101/101 [==============================] - 20s 193ms/step - loss: 0.6920 - accuracy: 0.7383 - val_loss: 0.6982 - val_accuracy: 0.7318\n"
     ]
    }
   ],
   "source": [
    "c = model.fit(X_train, y_train, batch_size = 64, epochs = 20, validation_split=0.2)"
   ]
  },
  {
   "cell_type": "code",
   "execution_count": 28,
   "id": "64819a7d-a37d-4ca7-a341-e40b2bccefec",
   "metadata": {},
   "outputs": [
    {
     "data": {
      "image/png": "[encoded data removed]",
      "text/plain": [
       "<Figure size 432x288 with 1 Axes>"
      ]
     },
     "metadata": {
      "needs_background": "light"
     },
     "output_type": "display_data"
    }
   ],
   "source": [
    "plt.plot(c.history['loss'])\n",
    "plt.plot(c.history['val_loss'])\n",
    "plt.title('Cross Entropy Loss')\n",
    "plt.ylabel('Loss')\n",
    "plt.xlabel('Epoch')\n",
    "plt.legend(['Loss', 'Val_Loss'], loc='upper right')\n",
    "plt.show()"
   ]
  },
  {
   "cell_type": "code",
   "execution_count": 29,
   "id": "70365622-cbbe-4c96-8f62-682470d4d9ed",
   "metadata": {},
   "outputs": [
    {
     "data": {
      "image/png": "[encoded data removed]",
      "text/plain": [
       "<Figure size 432x288 with 1 Axes>"
      ]
     },
     "metadata": {
      "needs_background": "light"
     },
     "output_type": "display_data"
    }
   ],
   "source": [
    "plt.plot(c.history['accuracy'])\n",
    "plt.plot(c.history['val_accuracy'])\n",
    "plt.title('Model Accuracy')\n",
    "plt.ylabel('Accuracy')\n",
    "plt.xlabel('Epoch')\n",
    "plt.legend(['Train_Acc', 'Val_Acc'], loc='lower right')\n",
    "plt.show()"
   ]
  }
 ],
 "metadata": {
  "kernelspec": {
   "display_name": "Python 3 (ipykernel)",
   "language": "python",
   "name": "python3"
  },
  "language_info": {
   "codemirror_mode": {
    "name": "ipython",
    "version": 3
   },
   "file_extension": ".py",
   "mimetype": "text/x-python",
   "name": "python",
   "nbconvert_exporter": "python",
   "pygments_lexer": "ipython3",
   "version": "3.9.7"
  }
 },
 "nbformat": 4,
 "nbformat_minor": 5
}
